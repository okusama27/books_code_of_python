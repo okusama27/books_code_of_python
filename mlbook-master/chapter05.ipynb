{
 "cells": [
  {
   "cell_type": "code",
   "execution_count": 1,
   "metadata": {
    "collapsed": true
   },
   "outputs": [],
   "source": [
    "\n",
    "%matplotlib inline\n",
    "from __future__ import print_function\n",
    "\n",
    "try:\n",
    "    xrange\n",
    "except NameError:\n",
    "    xrange = range\n",
    "\n",
    "import pandas as pd\n",
    "import numpy as np\n",
    "import matplotlib.pyplot as plt\n",
    "import scipy.spatial as sp\n",
    "import scipy.sparse as sparse\n",
    "from sklearn.decomposition import NMF, TruncatedSVD"
   ]
  },
  {
   "cell_type": "code",
   "execution_count": 2,
   "metadata": {
    "collapsed": true
   },
   "outputs": [],
   "source": [
    "# レコメンデーション\n",
    "# ダミーデータを使ったサンプル\n",
    "rating_matrix = np.array([[2, 5, 1, 1, 0, 1, 2, 4],\n",
    "                          [1, 5, 2, 1, 4, 0, 0, 3],\n",
    "                          [0, 3, 3, 0, 1, 1, 1, 1],\n",
    "                          [5, 2, 2, 3, 1, 0, 0, 4],\n",
    "                          [5, 3, 3, 4, 1, 0, 0, 5],\n",
    "                          [1, 4, 3, 2, 5, 1, 0, 1],\n",
    "                          [0, 0, 0, 0, 0, 0, 0, 2],\n",
    "                          [0, 4, 0, 0, 0, 0, 0, 0]])"
   ]
  },
  {
   "cell_type": "code",
   "execution_count": 3,
   "metadata": {},
   "outputs": [
    {
     "data": {
      "text/plain": [
       "array([ 1.        ,  0.77831178,  0.73914049,  0.7402121 ,  0.78215389,\n",
       "        0.58777469,  0.5547002 ,  0.69337525])"
      ]
     },
     "execution_count": 3,
     "metadata": {},
     "output_type": "execute_result"
    }
   ],
   "source": [
    "# 1行目のユーザーとにているユーザーを探す\n",
    "user_similarity = []\n",
    "for i in range(len(rating_matrix)):\n",
    "    # cosine類似度　= 1 - cosine距離\n",
    "    sim = 1 - sp.distance.cosine(rating_matrix[0], rating_matrix[i])\n",
    "    user_similarity.append(sim)\n",
    "    \n",
    "user_similarity = np.array(user_similarity)\n",
    "user_similarity"
   ]
  },
  {
   "cell_type": "code",
   "execution_count": 4,
   "metadata": {},
   "outputs": [
    {
     "data": {
      "text/plain": [
       "array([[5, 3, 3, 4, 1, 0, 0, 5],\n",
       "       [1, 5, 2, 1, 4, 0, 0, 3],\n",
       "       [5, 2, 2, 3, 1, 0, 0, 4],\n",
       "       [0, 3, 3, 0, 1, 1, 1, 1]])"
      ]
     },
     "execution_count": 4,
     "metadata": {},
     "output_type": "execute_result"
    }
   ],
   "source": [
    "# 類似度が高いユーザーを探す\n",
    "topN = 4\n",
    "\n",
    "# userのインデックス（行番号）をNumpy Arrayで作っておきます\n",
    "user_idx = np.array(range(0, len(rating_matrix)))\n",
    "\n",
    "# 類似度の低い順にソートした結果のインデックスを用意して、降順に並び替えます\n",
    "arg_sort = np.argsort(user_similarity)\n",
    "arg_sort = arg_sort[::-1]\n",
    "\n",
    "# 自分自身を除いた類似度の高い4人を選びます\n",
    "selected_idx = arg_sort[1:topN+1]\n",
    "\n",
    "selected_user_similarity = user_similarity[selected_idx]\n",
    "selected_rating_matrix = rating_matrix[selected_idx]\n",
    "selected_rating_matrix"
   ]
  },
  {
   "cell_type": "code",
   "execution_count": 5,
   "metadata": {},
   "outputs": [
    {
     "data": {
      "text/plain": [
       "array([ 0.78215389,  0.77831178,  0.7402121 ,  0.73914049])"
      ]
     },
     "execution_count": 5,
     "metadata": {},
     "output_type": "execute_result"
    }
   ],
   "source": [
    "selected_user_similarity"
   ]
  },
  {
   "cell_type": "code",
   "execution_count": 6,
   "metadata": {
    "collapsed": true
   },
   "outputs": [],
   "source": [
    "# 平均類似度\n",
    "avg_score = []\n",
    "for col_idx in range(selected_rating_matrix.shape[1]):\n",
    "    weight_score = \\\n",
    "     sum(selected_rating_matrix[:, col_idx] * selected_user_similarity)\n",
    "    similarity_sum = \\\n",
    "     sum(selected_user_similarity[selected_user_similarity > 0])\n",
    "    avg_score.append(weight_score / similarity_sum)"
   ]
  },
  {
   "cell_type": "code",
   "execution_count": 7,
   "metadata": {},
   "outputs": [
    {
     "name": "stdout",
     "output_type": "stream",
     "text": [
      "0th item   2.76008004028\n",
      "1th item   3.26857245915\n",
      "2th item   2.50045570209\n",
      "3th item   2.01576643714\n",
      "4th item   1.76811675706\n",
      "5th item   0.243152856729\n",
      "6th item   0.243152856729\n",
      "7th item   3.27180535615\n"
     ]
    }
   ],
   "source": [
    "for i, v in enumerate(avg_score):\n",
    "    print(str(i) + 'th item  ', v)"
   ]
  },
  {
   "cell_type": "code",
   "execution_count": 8,
   "metadata": {},
   "outputs": [
    {
     "name": "stdout",
     "output_type": "stream",
     "text": [
      "(339323, 2)\n"
     ]
    },
    {
     "data": {
      "text/html": [
       "<div>\n",
       "<table border=\"1\" class=\"dataframe\">\n",
       "  <thead>\n",
       "    <tr style=\"text-align: right;\">\n",
       "      <th></th>\n",
       "      <th>user_id</th>\n",
       "      <th>topic_name</th>\n",
       "    </tr>\n",
       "  </thead>\n",
       "  <tbody>\n",
       "    <tr>\n",
       "      <th>0</th>\n",
       "      <td>25126</td>\n",
       "      <td>(株)アップル</td>\n",
       "    </tr>\n",
       "    <tr>\n",
       "      <th>1</th>\n",
       "      <td>26285</td>\n",
       "      <td>(株)電通</td>\n",
       "    </tr>\n",
       "    <tr>\n",
       "      <th>2</th>\n",
       "      <td>15409</td>\n",
       "      <td>.NET_Framework</td>\n",
       "    </tr>\n",
       "    <tr>\n",
       "      <th>3</th>\n",
       "      <td>30466</td>\n",
       "      <td>.NET_Framework</td>\n",
       "    </tr>\n",
       "    <tr>\n",
       "      <th>4</th>\n",
       "      <td>30878</td>\n",
       "      <td>.NET_Framework</td>\n",
       "    </tr>\n",
       "  </tbody>\n",
       "</table>\n",
       "</div>"
      ],
      "text/plain": [
       "   user_id      topic_name\n",
       "0    25126         (株)アップル\n",
       "1    26285           (株)電通\n",
       "2    15409  .NET_Framework\n",
       "3    30466  .NET_Framework\n",
       "4    30878  .NET_Framework"
      ]
     },
     "execution_count": 8,
     "metadata": {},
     "output_type": "execute_result"
    }
   ],
   "source": [
    "# 某ニュースアプリのテーマのフォロー状況を模したデータで協調フィルタリング\n",
    "data = pd.read_csv('dataset/user_topic_follow_dummy.csv', encoding='utf8')\n",
    "# DataFrame.drop_duplicates。重複のうち、最初のひとつ もしくは 最後のひとつ どちらかを残す\n",
    "data.drop_duplicates(keep='last', inplace=True)\n",
    "print(data.shape)\n",
    "data.head()"
   ]
  },
  {
   "cell_type": "code",
   "execution_count": 9,
   "metadata": {
    "collapsed": true
   },
   "outputs": [],
   "source": [
    "data['rating'] = 1.0"
   ]
  },
  {
   "cell_type": "code",
   "execution_count": 10,
   "metadata": {
    "collapsed": true
   },
   "outputs": [],
   "source": [
    "# 複数行持ちの値を列持ちに変換 (pivot)\n",
    "# DataFrame.pivot。集約処理付きの別関数 pd.pivot_table もある。\n",
    "rating_matrix = \\\n",
    " data.pivot(index='user_id', columns='topic_name', values='rating')\n",
    "rating_matrix.fillna(0, inplace=True)\n"
   ]
  },
  {
   "cell_type": "code",
   "execution_count": 11,
   "metadata": {
    "collapsed": true
   },
   "outputs": [],
   "source": [
    "topic_list = np.array(rating_matrix.columns)\n",
    "user_list = np.array(rating_matrix.index)"
   ]
  },
  {
   "cell_type": "code",
   "execution_count": 12,
   "metadata": {},
   "outputs": [
    {
     "data": {
      "text/plain": [
       "array([[ 0.,  0.,  0., ...,  0.,  0.,  0.],\n",
       "       [ 0.,  0.,  0., ...,  0.,  0.,  0.],\n",
       "       [ 0.,  0.,  0., ...,  0.,  0.,  0.],\n",
       "       ..., \n",
       "       [ 0.,  0.,  0., ...,  0.,  0.,  0.],\n",
       "       [ 0.,  0.,  0., ...,  0.,  0.,  0.],\n",
       "       [ 0.,  0.,  0., ...,  0.,  0.,  0.]])"
      ]
     },
     "execution_count": 12,
     "metadata": {},
     "output_type": "execute_result"
    }
   ],
   "source": [
    "rating_matrix_ar = np.array(rating_matrix)\n",
    "rating_matrix_ar"
   ]
  },
  {
   "cell_type": "code",
   "execution_count": 13,
   "metadata": {},
   "outputs": [
    {
     "data": {
      "text/html": [
       "<div>\n",
       "<table border=\"1\" class=\"dataframe\">\n",
       "  <thead>\n",
       "    <tr style=\"text-align: right;\">\n",
       "      <th></th>\n",
       "      <th>user_id</th>\n",
       "      <th>topic_name</th>\n",
       "      <th>rating</th>\n",
       "    </tr>\n",
       "  </thead>\n",
       "  <tbody>\n",
       "    <tr>\n",
       "      <th>40826</th>\n",
       "      <td>1</td>\n",
       "      <td>MacBook</td>\n",
       "      <td>1.0</td>\n",
       "    </tr>\n",
       "    <tr>\n",
       "      <th>187716</th>\n",
       "      <td>1</td>\n",
       "      <td>一人旅</td>\n",
       "      <td>1.0</td>\n",
       "    </tr>\n",
       "    <tr>\n",
       "      <th>211960</th>\n",
       "      <td>1</td>\n",
       "      <td>吉祥寺</td>\n",
       "      <td>1.0</td>\n",
       "    </tr>\n",
       "    <tr>\n",
       "      <th>287441</th>\n",
       "      <td>1</td>\n",
       "      <td>築地市場</td>\n",
       "      <td>1.0</td>\n",
       "    </tr>\n",
       "    <tr>\n",
       "      <th>327071</th>\n",
       "      <td>1</td>\n",
       "      <td>離乳食</td>\n",
       "      <td>1.0</td>\n",
       "    </tr>\n",
       "  </tbody>\n",
       "</table>\n",
       "</div>"
      ],
      "text/plain": [
       "        user_id topic_name  rating\n",
       "40826         1    MacBook     1.0\n",
       "187716        1        一人旅     1.0\n",
       "211960        1        吉祥寺     1.0\n",
       "287441        1       築地市場     1.0\n",
       "327071        1        離乳食     1.0"
      ]
     },
     "execution_count": 13,
     "metadata": {},
     "output_type": "execute_result"
    }
   ],
   "source": [
    "# さて、user_id=1の方に対するオススメトピックを探してみましょう。\n",
    "already_followed_topic = \\\n",
    " np.array(data[data['user_id'] == user_list[0]]['topic_name'])\n",
    "data[data['user_id'] == user_list[0]]"
   ]
  },
  {
   "cell_type": "code",
   "execution_count": 14,
   "metadata": {
    "collapsed": true
   },
   "outputs": [],
   "source": [
    "# 類似度計算\n",
    "def get_cosine_similarity(x, y):\n",
    "    return 1- sp.distance.cosine(x, y)\n",
    "\n",
    "def get_jaccard_similarity(x, y):\n",
    "    return 1 - sp.distance.jaccard(x, y)\n",
    "\n",
    "user_similarity = []\n",
    "target_user_row = rating_matrix_ar[0]\n",
    "for row in rating_matrix_ar:\n",
    "    sim = get_jaccard_similarity(target_user_row, row)\n",
    "    user_similarity.append(sim)\n",
    "user_similarity = np.array(user_similarity)"
   ]
  },
  {
   "cell_type": "code",
   "execution_count": 15,
   "metadata": {},
   "outputs": [
    {
     "data": {
      "text/plain": [
       "array([ 1.        ,  0.        ,  0.14285714, ...,  0.        ,\n",
       "        0.08333333,  0.05263158])"
      ]
     },
     "execution_count": 15,
     "metadata": {},
     "output_type": "execute_result"
    }
   ],
   "source": [
    "user_similarity"
   ]
  },
  {
   "cell_type": "code",
   "execution_count": 16,
   "metadata": {
    "collapsed": true
   },
   "outputs": [],
   "source": [
    "# 類似度が高いユーザー\n",
    "topN = 20\n",
    "idx = user_similarity.argsort()[::-1][1:topN+1]\n",
    "selected_user_similarity = user_similarity[idx]\n",
    "selected_rating = rating_matrix_ar[idx]"
   ]
  },
  {
   "cell_type": "code",
   "execution_count": 17,
   "metadata": {
    "collapsed": true
   },
   "outputs": [],
   "source": [
    "# 平均類似度計算\n",
    "avg_score = []\n",
    "for col_idx in range(selected_rating.shape[1]):\n",
    "    weight_score = sum(selected_rating[:, col_idx] * selected_user_similarity)\n",
    "    similarity_sum = \\\n",
    "     sum(selected_user_similarity[selected_user_similarity > 0])\n",
    "    avg_score.append(weight_score / similarity_sum)\n",
    "avg_score = np.array(avg_score)"
   ]
  },
  {
   "cell_type": "code",
   "execution_count": 18,
   "metadata": {},
   "outputs": [
    {
     "name": "stdout",
     "output_type": "stream",
     "text": [
      "インテリジェント・デザイン\n",
      "映画\n",
      "音楽\n",
      "デート\n",
      "副業\n"
     ]
    }
   ],
   "source": [
    "recommend_num = 5\n",
    "counter = 0\n",
    "for recommended_topic in topic_list[avg_score.argsort()[::-1]]:\n",
    "    if recommended_topic not in already_followed_topic:\n",
    "        print(recommended_topic)\n",
    "        counter += 1\n",
    "        if recommend_num <= counter:\n",
    "            break"
   ]
  },
  {
   "cell_type": "code",
   "execution_count": 19,
   "metadata": {
    "collapsed": true
   },
   "outputs": [],
   "source": [
    "# 次元削減\n",
    "# 特異値分解(Singular Value Decomposition)による次元圧縮を使ったレコメンデーション\n",
    "svd = TruncatedSVD(n_components=20)"
   ]
  },
  {
   "cell_type": "code",
   "execution_count": 20,
   "metadata": {
    "collapsed": true
   },
   "outputs": [],
   "source": [
    "rating_matrix_sparse = sparse.lil_matrix(rating_matrix_ar)"
   ]
  },
  {
   "cell_type": "code",
   "execution_count": 21,
   "metadata": {
    "collapsed": true
   },
   "outputs": [],
   "source": [
    "rating_matrix_svd = svd.fit_transform(rating_matrix_sparse)"
   ]
  },
  {
   "cell_type": "code",
   "execution_count": 22,
   "metadata": {
    "collapsed": true
   },
   "outputs": [],
   "source": [
    "user_similarity = []\n",
    "target_user_svd = rating_matrix_svd[0]\n",
    "for row in rating_matrix_svd:\n",
    "    sim = get_cosine_similarity(target_user_svd, row)\n",
    "    user_similarity.append(sim)\n",
    "user_similarity = np.array(user_similarity)"
   ]
  },
  {
   "cell_type": "code",
   "execution_count": 23,
   "metadata": {},
   "outputs": [
    {
     "name": "stdout",
     "output_type": "stream",
     "text": [
      "インテリジェント・デザイン\n",
      "ロードバイク\n",
      "Twitter\n",
      "ゲーム\n",
      "PlayStation_4\n"
     ]
    }
   ],
   "source": [
    "topN = 20\n",
    "idx = user_similarity.argsort()[::-1][1:topN+1]\n",
    "selected_user_similarity = user_similarity[idx]\n",
    "selected_rating = rating_matrix_ar[idx]\n",
    "\n",
    "avg_score = []\n",
    "for col_idx in range(selected_rating.shape[1]):\n",
    "    weight_score = sum(selected_rating[:, col_idx] * selected_user_similarity)\n",
    "    similarity_sum = \\\n",
    "     sum(selected_user_similarity[selected_user_similarity > 0])\n",
    "    avg_score.append(weight_score / similarity_sum)\n",
    "avg_score = np.array(avg_score)\n",
    "\n",
    "recommend_num = 5\n",
    "counter = 0\n",
    "for recommended_topic in topic_list[avg_score.argsort()[::-1]]:\n",
    "    if recommended_topic not in already_followed_topic:\n",
    "        print(recommended_topic)\n",
    "        counter += 1\n",
    "        if recommend_num <= counter:\n",
    "            break"
   ]
  },
  {
   "cell_type": "code",
   "execution_count": 24,
   "metadata": {
    "collapsed": true
   },
   "outputs": [],
   "source": [
    "# 非負値行列分解(Non Negative Matrix Factorization)による次元圧縮を使ったレコメンデーション\n",
    "nmf = NMF(n_components=10, random_state=1234, init='random')"
   ]
  },
  {
   "cell_type": "code",
   "execution_count": 25,
   "metadata": {
    "collapsed": true
   },
   "outputs": [],
   "source": [
    "rating_matrix_nmf = nmf.fit_transform(rating_matrix_sparse)"
   ]
  },
  {
   "cell_type": "code",
   "execution_count": 26,
   "metadata": {
    "collapsed": true
   },
   "outputs": [],
   "source": [
    "user_similarity = []\n",
    "target_user_nmf = rating_matrix_nmf[0]\n",
    "for row in rating_matrix_nmf:\n",
    "    if sum(row) == 0:\n",
    "        sim = 0\n",
    "        user_similarity.append(sim)\n",
    "    else:\n",
    "        sim = get_cosine_similarity(target_user_nmf, row)\n",
    "        user_similarity.append(sim)\n",
    "user_similarity = np.array(user_similarity)"
   ]
  },
  {
   "cell_type": "code",
   "execution_count": 27,
   "metadata": {},
   "outputs": [
    {
     "name": "stdout",
     "output_type": "stream",
     "text": [
      "転職\n",
      "でんぱ組.inc\n",
      "インテリジェント・デザイン\n",
      "クラフトビール\n",
      "Twitter\n"
     ]
    }
   ],
   "source": [
    "topN = 20\n",
    "idx = user_similarity.argsort()[::-1][1:topN+1]\n",
    "selected_user_similarity = user_similarity[idx]\n",
    "selected_rating = rating_matrix_ar[idx]\n",
    "\n",
    "avg_score = []\n",
    "for col_idx in range(selected_rating.shape[1]):\n",
    "    weight_score = sum(selected_rating[:, col_idx] * selected_user_similarity)\n",
    "    similarity_sum = \\\n",
    "     sum(selected_user_similarity[selected_user_similarity > 0])\n",
    "    avg_score.append(weight_score / similarity_sum)\n",
    "avg_score = np.array(avg_score)\n",
    "\n",
    "recommend_num = 5\n",
    "counter = 0\n",
    "for recommended_topic in topic_list[avg_score.argsort()[::-1]]:\n",
    "    if recommended_topic not in already_followed_topic:\n",
    "        print(recommended_topic)\n",
    "        counter += 1\n",
    "        if recommend_num <= counter:\n",
    "            break"
   ]
  },
  {
   "cell_type": "code",
   "execution_count": null,
   "metadata": {
    "collapsed": true
   },
   "outputs": [],
   "source": []
  }
 ],
 "metadata": {
  "kernelspec": {
   "display_name": "Python 3",
   "language": "python",
   "name": "python3"
  },
  "language_info": {
   "codemirror_mode": {
    "name": "ipython",
    "version": 3
   },
   "file_extension": ".py",
   "mimetype": "text/x-python",
   "name": "python",
   "nbconvert_exporter": "python",
   "pygments_lexer": "ipython3",
   "version": "3.6.1"
  }
 },
 "nbformat": 4,
 "nbformat_minor": 2
}
