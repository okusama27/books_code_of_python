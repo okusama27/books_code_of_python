{
 "cells": [
  {
   "cell_type": "code",
   "execution_count": 1,
   "metadata": {},
   "outputs": [
    {
     "data": {
      "text/plain": [
       "2.0"
      ]
     },
     "execution_count": 1,
     "metadata": {},
     "output_type": "execute_result"
    }
   ],
   "source": [
    "import math\n",
    "math.sqrt(4)"
   ]
  },
  {
   "cell_type": "code",
   "execution_count": 5,
   "metadata": {
    "collapsed": true
   },
   "outputs": [],
   "source": [
    "math.sqrt?\n",
    "# Docstring \n",
    "# 参照: https://www.python.org/dev/peps/pep-0257/\n",
    "\n",
    "# Docstring:\n",
    "# sqrt(x)\n",
    "# \n",
    "# Return the square root of x.\n",
    "# Type:      builtin_function_or_method"
   ]
  },
  {
   "cell_type": "code",
   "execution_count": null,
   "metadata": {},
   "outputs": [],
   "source": [
    "a = math.sqrt(4)\n",
    "a?"
   ]
  },
  {
   "cell_type": "code",
   "execution_count": 7,
   "metadata": {},
   "outputs": [
    {
     "data": {
      "text/plain": [
       "<function math.sin>"
      ]
     },
     "execution_count": 7,
     "metadata": {},
     "output_type": "execute_result"
    }
   ],
   "source": [
    "math.sin"
   ]
  },
  {
   "cell_type": "code",
   "execution_count": 8,
   "metadata": {},
   "outputs": [
    {
     "name": "stdout",
     "output_type": "stream",
     "text": [
      "import math\n",
      "math.sqrt(4)\n",
      "math.sqrt?\n",
      "math.sqrt?\n",
      "math.sqrt?\n",
      "# Docstring \n",
      "# 参照: https://www.python.org/dev/peps/pep-0257/\n",
      "\n",
      "''''''Docstring:\n",
      "sqrt(x)\n",
      "\n",
      "Return the square root of x.\n",
      "Type:      builtin_function_or_method''''''\n",
      "math.sqrt?\n",
      "# Docstring \n",
      "# 参照: https://www.python.org/dev/peps/pep-0257/\n",
      "\n",
      "# Docstring:\n",
      "# sqrt(x)\n",
      "# \n",
      "# Return the square root of x.\n",
      "# Type:      builtin_function_or_method\n",
      "a = math.sqrt(4)\n",
      "a?\n",
      "a = math.sqrt(4)\n",
      "a?\n",
      "\n",
      "math.sin\n",
      "%history\n"
     ]
    }
   ],
   "source": [
    "%history"
   ]
  },
  {
   "cell_type": "code",
   "execution_count": 9,
   "metadata": {},
   "outputs": [
    {
     "name": "stdout",
     "output_type": "stream",
     "text": [
      "Part2.ipynb  README.md    \u001b[34menv\u001b[m\u001b[m/\r\n"
     ]
    }
   ],
   "source": [
    "%ls\n"
   ]
  },
  {
   "cell_type": "code",
   "execution_count": null,
   "metadata": {},
   "outputs": [],
   "source": []
  }
 ],
 "metadata": {
  "kernelspec": {
   "display_name": "Python 3",
   "language": "python",
   "name": "python3"
  },
  "language_info": {
   "codemirror_mode": {
    "name": "ipython",
    "version": 3
   },
   "file_extension": ".py",
   "mimetype": "text/x-python",
   "name": "python",
   "nbconvert_exporter": "python",
   "pygments_lexer": "ipython3",
   "version": "3.5.0"
  }
 },
 "nbformat": 4,
 "nbformat_minor": 2
}
